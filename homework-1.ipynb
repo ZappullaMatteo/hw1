{
 "cells": [
  {
   "cell_type": "markdown",
   "id": "3a2a5817",
   "metadata": {
    "papermill": {
     "duration": 0.002563,
     "end_time": "2025-04-23T18:04:22.450048",
     "exception": false,
     "start_time": "2025-04-23T18:04:22.447485",
     "status": "completed"
    },
    "tags": []
   },
   "source": [
    "# **HOMEWORK 1 - Regressione Lineare**\n",
    "\n",
    "In questo homework dovrete:\n",
    "\n",
    "1. Scrivere una funzione di pipeline che deve gestire l' allenamento di un modello di regressione lineare al variare degli iperparametri forniti. Nello specifico:\n",
    "    * Deve applicare la PCA, se presente.\n",
    "    \n",
    "    * Deve applicare la standardizzazione, se presente.\n",
    "\n",
    "    * Deve applicare la regolarizzazione, se presente.\n",
    "\n",
    "    * Deve allenare il modello di regressione lineare.\n",
    "\n",
    "    * Deve calcolare la MAE.\n",
    "\n",
    "2. Scrivere una funzione che utilizzi la `pipeline` definita al punto 1 e che testi tutte le configurazioni possibili presenti in `configs`. Nel dettaglio la funzione deve:\n",
    "    * Dividere il dataset in train e validation.\n",
    "\n",
    "    * Calcolare, grazie alla funzione `pipeline` definita al punto 1, quale configurazione ottiene il punteggio migliore (quale configurazione ha la MAE di validation più bassa).\n",
    "\n",
    "3. Scrivere una funzione che utilizzi la configurazione migliore prodotta dalla funzione definita al punto 2 e la testi sul test set. \n",
    "\n",
    "4. Stampare:\n",
    "    * La migliore configurazione\n",
    "\n",
    "    * Il miglior MAE di validation \n",
    "\n",
    "    * Il migliore MAE di train\n",
    "\n",
    "    * Il MAE di test \n",
    "\n",
    "\n",
    "Il codice che di seguito trovate già fornito deve essere utilizzato per la risoluzione dell' homework, **NON MODIFICATELO IN ALCUN MODO**."
   ]
  },
  {
   "cell_type": "markdown",
   "id": "0e311f19",
   "metadata": {
    "papermill": {
     "duration": 0.001695,
     "end_time": "2025-04-23T18:04:22.453844",
     "exception": false,
     "start_time": "2025-04-23T18:04:22.452149",
     "status": "completed"
    },
    "tags": []
   },
   "source": [
    "## **Dataset Wine Quality White**\n",
    "\n",
    "Il dataset da utilizzare è `wine-quality-white` della libreria `scikit-learn`. Il dataset contiene 11 variabili numeriche + 1 di target che classifica il vino in diverse categorie di qualità. Per il nostro obiettivo la variabile di target è considerata come `float`, permettendoci di applicare la regressione lineare. All' interno del dataset sono contenuti 4898 campioni. "
   ]
  },
  {
   "cell_type": "code",
   "execution_count": 1,
   "id": "ffc10c81",
   "metadata": {
    "execution": {
     "iopub.execute_input": "2025-04-23T18:04:22.458879Z",
     "iopub.status.busy": "2025-04-23T18:04:22.458523Z",
     "iopub.status.idle": "2025-04-23T18:04:26.041373Z",
     "shell.execute_reply": "2025-04-23T18:04:26.040601Z"
    },
    "papermill": {
     "duration": 3.587446,
     "end_time": "2025-04-23T18:04:26.043085",
     "exception": false,
     "start_time": "2025-04-23T18:04:22.455639",
     "status": "completed"
    },
    "tags": []
   },
   "outputs": [],
   "source": [
    "# Questa cella contiene tutte le librerie di cui necessitate per risolvere l' homework.\n",
    "# Ricordate di eseguirla prima di iniziare.\n",
    "\n",
    "import numpy as np\n",
    "import pandas as pd\n",
    "import matplotlib.pyplot as plt\n",
    "from sklearn.decomposition import PCA\n",
    "from sklearn.datasets import fetch_openml\n",
    "from sklearn.utils import shuffle\n",
    "from sklearn.preprocessing import StandardScaler"
   ]
  },
  {
   "cell_type": "code",
   "execution_count": 2,
   "id": "aa56a8ca",
   "metadata": {
    "execution": {
     "iopub.execute_input": "2025-04-23T18:04:26.048424Z",
     "iopub.status.busy": "2025-04-23T18:04:26.048013Z",
     "iopub.status.idle": "2025-04-23T18:04:26.058340Z",
     "shell.execute_reply": "2025-04-23T18:04:26.057321Z"
    },
    "papermill": {
     "duration": 0.014521,
     "end_time": "2025-04-23T18:04:26.059736",
     "exception": false,
     "start_time": "2025-04-23T18:04:26.045215",
     "status": "completed"
    },
    "tags": []
   },
   "outputs": [
    {
     "name": "stdout",
     "output_type": "stream",
     "text": [
      "Numero di combinazioni: 56\n"
     ]
    }
   ],
   "source": [
    "hyperparams = {\n",
    "    # PCA\n",
    "    'use_pca': [True, False],\n",
    "    'pca_standardize': [True, False],\n",
    "    'pca_components': [3, 5, 10],\n",
    "    # Data standardization\n",
    "    'data_standardize': [True, False],\n",
    "    # Regularization l2\n",
    "    'use_regularization': [True, False],\n",
    "    'reg_lambda': [0.1, 1, 10],\n",
    "}\n",
    "\n",
    "# Calcoliamo tutte le possibili combinazioni di iperparametri\n",
    "import itertools\n",
    "combinations = list(itertools.product(*hyperparams.values()))\n",
    "configs = [dict(zip(hyperparams.keys(), combination)) for combination in combinations]\n",
    "\n",
    "# Evitiamo le combinazioni non valide\n",
    "for config in configs:\n",
    "    if not config['use_pca']:\n",
    "        config['pca_standardize'] = None\n",
    "        config['pca_components'] = None\n",
    "    if not config['use_regularization']:\n",
    "        config['reg_lambda'] = None\n",
    "configs = set([tuple(config.items()) for config in configs])\n",
    "\n",
    "# Convertiamo di nuovo in lista di dizionari\n",
    "configs = [dict(config) for config in configs]\n",
    "print(f'Numero di combinazioni: {len(configs)}')"
   ]
  },
  {
   "cell_type": "markdown",
   "id": "3125cd0c",
   "metadata": {
    "papermill": {
     "duration": 0.001704,
     "end_time": "2025-04-23T18:04:26.063580",
     "exception": false,
     "start_time": "2025-04-23T18:04:26.061876",
     "status": "completed"
    },
    "tags": []
   },
   "source": [
    "In `configs` avete una lista di dizionari, ogni dizionario contiene una possibile combinazione di hyperparametri da utilizzare nella fase di training. "
   ]
  },
  {
   "cell_type": "code",
   "execution_count": 3,
   "id": "b4f3e553",
   "metadata": {
    "execution": {
     "iopub.execute_input": "2025-04-23T18:04:26.068973Z",
     "iopub.status.busy": "2025-04-23T18:04:26.068606Z",
     "iopub.status.idle": "2025-04-23T18:04:27.670404Z",
     "shell.execute_reply": "2025-04-23T18:04:27.669534Z"
    },
    "papermill": {
     "duration": 1.606912,
     "end_time": "2025-04-23T18:04:27.672299",
     "exception": false,
     "start_time": "2025-04-23T18:04:26.065387",
     "status": "completed"
    },
    "tags": []
   },
   "outputs": [
    {
     "name": "stderr",
     "output_type": "stream",
     "text": [
      "/usr/local/lib/python3.11/dist-packages/sklearn/datasets/_openml.py:968: FutureWarning: The default value of `parser` will change from `'liac-arff'` to `'auto'` in 1.4. You can set `parser='auto'` to silence this warning. Therefore, an `ImportError` will be raised from 1.4 if the dataset is dense and pandas is not installed. Note that the pandas parser may return different data types. See the Notes Section in fetch_openml's API doc for details.\n",
      "  warn(\n"
     ]
    },
    {
     "name": "stdout",
     "output_type": "stream",
     "text": [
      "Migliore configurazione: {'use_pca': False, 'pca_standardize': None, 'pca_components': None, 'data_standardize': False, 'use_regularization': True, 'reg_lambda': 1}\n",
      "Miglior MAE di validation: 0.5758382045360769\n",
      "Miglior MAE di train: 0.6110774467088591\n",
      "MAE finale test set: 0.5776071103930652\n"
     ]
    }
   ],
   "source": [
    "# Carica il dataset Wine Quality White\n",
    "data = fetch_openml(name='wine-quality-white', version=1, as_frame=True)\n",
    "X = data.data\n",
    "y = data.target.astype(float)  # Assicura che il target sia float per la regressione\n",
    "\n",
    "def pipeline(X_train, y_train, X_val, y_val, hyperparams):\n",
    "    \"\"\"\n",
    "    Addestra un modello di regressione lineare con eventuale PCA e regolarizzazione L2.\n",
    "    \"\"\"\n",
    "\n",
    "    # Copia dei dati per evitare modifiche sui dati originali\n",
    "    X_train = X_train.copy()\n",
    "    X_val = X_val.copy()\n",
    "\n",
    "    if hyperparams['use_pca']:\n",
    "        n_components = hyperparams['pca_components']\n",
    "        pca = PCA(n_components=n_components)\n",
    "        X_train = pca.fit_transform(X_train)\n",
    "        X_val = pca.transform(X_val)\n",
    "\n",
    "        if hyperparams['pca_standardize']:\n",
    "            #Standardizzazione dati dopo PCA\n",
    "            scaler = StandardScaler()\n",
    "            X_train = scaler.fit_transform(X_train)\n",
    "            X_val = scaler.transform(X_val)\n",
    "\n",
    "    if hyperparams['data_standardize']:\n",
    "        #Standardizzazione dati se non si usa PCA\n",
    "        scaler = StandardScaler()\n",
    "        X_train = scaler.fit_transform(X_train)\n",
    "        X_val = scaler.transform(X_val)\n",
    "\n",
    "    # Aggiunge il termine costante ai dati\n",
    "    X_train = np.c_[np.ones((X_train.shape[0], 1)), X_train] \n",
    "    X_val = np.c_[np.ones((X_val.shape[0], 1)), X_val]\n",
    "\n",
    "    # Calcolo della soluzione di regressione lineare\n",
    "    if hyperparams['use_regularization']:\n",
    "        # Regolarizzazione L2: utilizziamo Ridge regression\n",
    "        from sklearn.linear_model import Ridge\n",
    "        model = Ridge(alpha=hyperparams['reg_lambda'])\n",
    "    else:\n",
    "        # Senza regolarizzazione: regressione lineare standard\n",
    "        from sklearn.linear_model import LinearRegression\n",
    "        model = LinearRegression()\n",
    "\n",
    "    # Addestriamo il modello\n",
    "    model.fit(X_train, y_train)\n",
    "\n",
    "    # Calcolo predizioni\n",
    "    y_train_pred = model.predict(X_train)\n",
    "    y_val_pred = model.predict(X_val)\n",
    "    \n",
    "    # Calcola il MAE\n",
    "    MAE_train = np.mean(np.abs(y_train - y_train_pred))\n",
    "    MAE_val = np.mean(np.abs(y_val - y_val_pred))\n",
    "\n",
    "    return MAE_train, MAE_val\n",
    "\n",
    "# Dividi il dataset in training e test set\n",
    "train_fraction = 0.6  # 60% --> training\n",
    "test_fraction = 0.2   # 20% --> test\n",
    "validation_fraction = 0.20  # 20% --> validation\n",
    "    #Divisione dataset training set e test set\n",
    "num_train = int(train_fraction * X.shape[0])\n",
    "X_train = X[:num_train]\n",
    "y_train = y[:num_train]\n",
    "X_test = X[num_train:]\n",
    "y_test = y[num_train:]\n",
    "\n",
    "\n",
    "# Dividi il training set in training set effettivo e validation set\n",
    "num_val = int(validation_fraction * X_train.shape[0])\n",
    "\n",
    "# Creazione del validation set\n",
    "X_val = X_train[-num_val:]\n",
    "y_val = y_train[-num_val:]\n",
    "\n",
    "# Aggiorna X_train e y_train, escludendo la parte di validation set\n",
    "X_train = X_train[:-num_val]\n",
    "y_train = y_train[:-num_val]\n",
    "\n",
    "# Trova la configurazione di iperparametri migliore\n",
    "best_config = None\n",
    "best_mae_val = float('inf')\n",
    "best_mae_train = None\n",
    "\n",
    "for config in configs:\n",
    "    MAE_train, MAE_val = pipeline(X_train, y_train, X_val, y_val, config)\n",
    "    \n",
    "    if MAE_val < best_mae_val:\n",
    "        best_mae_val = MAE_val\n",
    "        best_mae_train = MAE_train\n",
    "        best_config = config\n",
    "\n",
    "# Riallena il modello sul training set completo\n",
    "X_full_train = np.vstack((X_train, X_val))\n",
    "y_full_train = np.concatenate((y_train, y_val))\n",
    "\n",
    "# Calcola il MAE sul test set\n",
    "mae_train_final, mae_val_final = pipeline(X_full_train, y_full_train, X_test, y_test, best_config)\n",
    "\n",
    "# Stampa  risultati \n",
    "print(f\"Migliore configurazione: {best_config}\")\n",
    "print(f\"Miglior MAE di validation: {best_mae_val}\")\n",
    "print(f\"Miglior MAE di train: {best_mae_train}\")\n",
    "print(f\"MAE finale test set: {mae_val_final}\")"
   ]
  }
 ],
 "metadata": {
  "kaggle": {
   "accelerator": "none",
   "dataSources": [],
   "dockerImageVersionId": 31012,
   "isGpuEnabled": false,
   "isInternetEnabled": true,
   "language": "python",
   "sourceType": "notebook"
  },
  "kernelspec": {
   "display_name": "Python 3",
   "language": "python",
   "name": "python3"
  },
  "language_info": {
   "codemirror_mode": {
    "name": "ipython",
    "version": 3
   },
   "file_extension": ".py",
   "mimetype": "text/x-python",
   "name": "python",
   "nbconvert_exporter": "python",
   "pygments_lexer": "ipython3",
   "version": "3.11.11"
  },
  "papermill": {
   "default_parameters": {},
   "duration": 10.669832,
   "end_time": "2025-04-23T18:04:28.397515",
   "environment_variables": {},
   "exception": null,
   "input_path": "__notebook__.ipynb",
   "output_path": "__notebook__.ipynb",
   "parameters": {},
   "start_time": "2025-04-23T18:04:17.727683",
   "version": "2.6.0"
  }
 },
 "nbformat": 4,
 "nbformat_minor": 5
}
